{
 "cells": [
  {
   "attachments": {},
   "cell_type": "markdown",
   "metadata": {},
   "source": [
    "Creating a class and the class methods"
   ]
  },
  {
   "cell_type": "code",
   "execution_count": 3,
   "metadata": {},
   "outputs": [],
   "source": [
    "class Phone:\n",
    "    #methods and mentioning the self argument is mandatory\n",
    "    def make_calls(self):\n",
    "        print(\"I am making a call now.\")\n",
    "    def play_game(self):\n",
    "        print(\"I am playing a game now.\")\n",
    "    "
   ]
  },
  {
   "attachments": {},
   "cell_type": "markdown",
   "metadata": {},
   "source": [
    "Creating an object of the class phone"
   ]
  },
  {
   "cell_type": "code",
   "execution_count": 5,
   "metadata": {},
   "outputs": [
    {
     "name": "stdout",
     "output_type": "stream",
     "text": [
      "I am making a call now.\n",
      "I am playing a game now.\n"
     ]
    }
   ],
   "source": [
    "p1 = Phone() #p1 is an object of phone class\n",
    "#printing the class methods above using the object\n",
    "p1.make_calls()\n",
    "p1.play_game()"
   ]
  },
  {
   "attachments": {},
   "cell_type": "markdown",
   "metadata": {},
   "source": [
    "Adding the class attributes and the members through adding extra parameters to the methods"
   ]
  },
  {
   "cell_type": "code",
   "execution_count": 17,
   "metadata": {},
   "outputs": [],
   "source": [
    "class Phone:\n",
    "    rating = 0 #class member\n",
    "    #methods and mentioning the self argument is mandatory\n",
    "    def make_calls(self):\n",
    "        print(\"I am making a call now.\")\n",
    "    def play_game(self):\n",
    "        print(\"I am playing a game now.\")\n",
    "    def set_color(self,color):\n",
    "        self.color=color        #color and cost are both class attributes, the members of the class and the object of the particular class\n",
    "    def set_cost(self,cost):\n",
    "        self.cost=cost\n",
    "    def set_rating(self,rating):\n",
    "        self.rating=rating\n",
    "    "
   ]
  },
  {
   "cell_type": "code",
   "execution_count": 20,
   "metadata": {},
   "outputs": [
    {
     "name": "stdout",
     "output_type": "stream",
     "text": [
      "red\n",
      "10000\n",
      "5\n",
      "0\n"
     ]
    }
   ],
   "source": [
    "p2 = Phone()\n",
    "p2.set_color(\"red\")\n",
    "p2.set_cost(10000)\n",
    "print(p2.color)\n",
    "print(p2.cost)\n",
    "p2.set_rating(5)\n",
    "print(p2.rating)\n",
    "p3=Phone()\n",
    "print(p3.rating)"
   ]
  },
  {
   "attachments": {},
   "cell_type": "markdown",
   "metadata": {},
   "source": [
    "creating a constructor ie __init__ method"
   ]
  },
  {
   "cell_type": "code",
   "execution_count": 28,
   "metadata": {},
   "outputs": [],
   "source": [
    "class Employee:\n",
    "    #creating the constructor\n",
    "    def __init__(self,name,age,salary,gender):\n",
    "        self.name= name\n",
    "        self.age=age\n",
    "        self.salary= salary\n",
    "        self.gender = gender\n",
    "    def emp_details(self):\n",
    "        print(\"Name of the employee is \",self.name)\n",
    "        print(\"Age of the employee is \",self.age)\n",
    "        print(\"Salary of the employee is \",self.salary)\n",
    "        print(\"Gender of the employee is \",self.gender)"
   ]
  },
  {
   "cell_type": "code",
   "execution_count": 29,
   "metadata": {},
   "outputs": [
    {
     "name": "stdout",
     "output_type": "stream",
     "text": [
      "Name of the employee is  Aditya\n",
      "Age of the employee is  21\n",
      "Salary of the employee is  100000\n",
      "Gender of the employee is  Male\n",
      "\n",
      "Name of the employee is  Akash\n",
      "Age of the employee is  20\n",
      "Salary of the employee is  80000\n",
      "Gender of the employee is  Male\n"
     ]
    }
   ],
   "source": [
    "e1=Employee(\"Aditya\",21,100000,\"Male\")\n",
    "e2=Employee(\"Akash\",20,80000,\"Male\")\n",
    "\n",
    "e1.emp_details()\n",
    "print()\n",
    "e2.emp_details()"
   ]
  },
  {
   "cell_type": "code",
   "execution_count": 31,
   "metadata": {},
   "outputs": [
    {
     "name": "stdout",
     "output_type": "stream",
     "text": [
      "Aditya Akash\n",
      "21 20\n"
     ]
    }
   ],
   "source": [
    "print(e1.name,e2.name)\n",
    "print(e1.age,e2.age)"
   ]
  },
  {
   "cell_type": "code",
   "execution_count": null,
   "metadata": {},
   "outputs": [],
   "source": []
  }
 ],
 "metadata": {
  "kernelspec": {
   "display_name": "Python 3",
   "language": "python",
   "name": "python3"
  },
  "language_info": {
   "codemirror_mode": {
    "name": "ipython",
    "version": 3
   },
   "file_extension": ".py",
   "mimetype": "text/x-python",
   "name": "python",
   "nbconvert_exporter": "python",
   "pygments_lexer": "ipython3",
   "version": "3.11.1"
  },
  "orig_nbformat": 4
 },
 "nbformat": 4,
 "nbformat_minor": 2
}
