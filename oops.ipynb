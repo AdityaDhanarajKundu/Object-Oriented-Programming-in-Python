{
 "cells": [
  {
   "attachments": {},
   "cell_type": "markdown",
   "metadata": {},
   "source": [
    "Creating a class and the class methods"
   ]
  },
  {
   "cell_type": "code",
   "execution_count": 3,
   "metadata": {},
   "outputs": [],
   "source": [
    "class Phone:\n",
    "    #methods and mentioning the self argument is mandatory\n",
    "    def make_calls(self):\n",
    "        print(\"I am making a call now.\")\n",
    "    def play_game(self):\n",
    "        print(\"I am playing a game now.\")\n",
    "    "
   ]
  },
  {
   "attachments": {},
   "cell_type": "markdown",
   "metadata": {},
   "source": [
    "Creating an object of the class phone"
   ]
  },
  {
   "cell_type": "code",
   "execution_count": 5,
   "metadata": {},
   "outputs": [
    {
     "name": "stdout",
     "output_type": "stream",
     "text": [
      "I am making a call now.\n",
      "I am playing a game now.\n"
     ]
    }
   ],
   "source": [
    "p1 = Phone() #p1 is an object of phone class\n",
    "#printing the class methods above using the object\n",
    "p1.make_calls()\n",
    "p1.play_game()"
   ]
  },
  {
   "attachments": {},
   "cell_type": "markdown",
   "metadata": {},
   "source": [
    "Adding the class attributes and the members through adding extra parameters to the methods"
   ]
  },
  {
   "cell_type": "code",
   "execution_count": 15,
   "metadata": {},
   "outputs": [],
   "source": [
    "class Phone:\n",
    "    #methods and mentioning the self argument is mandatory\n",
    "    def make_calls(self):\n",
    "        print(\"I am making a call now.\")\n",
    "    def play_game(self):\n",
    "        print(\"I am playing a game now.\")\n",
    "    def set_color(self,color):\n",
    "        self.color=color        #color and cost are both class attributes, the members of the class and the object of the particular class\n",
    "    def set_cost(self,cost):\n",
    "        self.cost=cost\n",
    "    "
   ]
  },
  {
   "cell_type": "code",
   "execution_count": 16,
   "metadata": {},
   "outputs": [
    {
     "name": "stdout",
     "output_type": "stream",
     "text": [
      "red\n",
      "10000\n"
     ]
    }
   ],
   "source": [
    "p2 = Phone()\n",
    "p2.set_color(\"red\")\n",
    "p2.set_cost(10000)\n",
    "print(p2.color)\n",
    "print(p2.cost)"
   ]
  }
 ],
 "metadata": {
  "kernelspec": {
   "display_name": "Python 3",
   "language": "python",
   "name": "python3"
  },
  "language_info": {
   "codemirror_mode": {
    "name": "ipython",
    "version": 3
   },
   "file_extension": ".py",
   "mimetype": "text/x-python",
   "name": "python",
   "nbconvert_exporter": "python",
   "pygments_lexer": "ipython3",
   "version": "3.11.1"
  },
  "orig_nbformat": 4
 },
 "nbformat": 4,
 "nbformat_minor": 2
}
