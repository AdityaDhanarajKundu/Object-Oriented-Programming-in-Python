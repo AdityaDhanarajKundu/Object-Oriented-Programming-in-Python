{
 "cells": [
  {
   "attachments": {},
   "cell_type": "markdown",
   "metadata": {},
   "source": [
    "Creating a class and the class methods"
   ]
  },
  {
   "cell_type": "code",
   "execution_count": 3,
   "metadata": {},
   "outputs": [],
   "source": [
    "class Phone:\n",
    "    #methods and mentioning the self argument is mandatory\n",
    "    def make_calls(self):\n",
    "        print(\"I am making a call now.\")\n",
    "    def play_game(self):\n",
    "        print(\"I am playing a game now.\")\n",
    "    "
   ]
  },
  {
   "attachments": {},
   "cell_type": "markdown",
   "metadata": {},
   "source": [
    "Creating an object of the class phone"
   ]
  },
  {
   "cell_type": "code",
   "execution_count": 5,
   "metadata": {},
   "outputs": [
    {
     "name": "stdout",
     "output_type": "stream",
     "text": [
      "I am making a call now.\n",
      "I am playing a game now.\n"
     ]
    }
   ],
   "source": [
    "p1 = Phone() #p1 is an object of phone class\n",
    "#printing the class methods above using the object\n",
    "p1.make_calls()\n",
    "p1.play_game()"
   ]
  },
  {
   "attachments": {},
   "cell_type": "markdown",
   "metadata": {},
   "source": [
    "Adding the class attributes and the members through adding extra parameters to the methods"
   ]
  },
  {
   "cell_type": "code",
   "execution_count": 17,
   "metadata": {},
   "outputs": [],
   "source": [
    "class Phone:\n",
    "    rating = 0 #class member\n",
    "    #methods and mentioning the self argument is mandatory\n",
    "    def make_calls(self):\n",
    "        print(\"I am making a call now.\")\n",
    "    def play_game(self):\n",
    "        print(\"I am playing a game now.\")\n",
    "    def set_color(self,color):\n",
    "        self.color=color        #color and cost are both class attributes, the members of the class and the object of the particular class\n",
    "    def set_cost(self,cost):\n",
    "        self.cost=cost\n",
    "    def set_rating(self,rating):\n",
    "        self.rating=rating\n",
    "    "
   ]
  },
  {
   "cell_type": "code",
   "execution_count": 20,
   "metadata": {},
   "outputs": [
    {
     "name": "stdout",
     "output_type": "stream",
     "text": [
      "red\n",
      "10000\n",
      "5\n",
      "0\n"
     ]
    }
   ],
   "source": [
    "p2 = Phone()\n",
    "p2.set_color(\"red\")\n",
    "p2.set_cost(10000)\n",
    "print(p2.color)\n",
    "print(p2.cost)\n",
    "p2.set_rating(5)\n",
    "print(p2.rating)\n",
    "p3=Phone()\n",
    "print(p3.rating)"
   ]
  },
  {
   "attachments": {},
   "cell_type": "markdown",
   "metadata": {},
   "source": [
    "creating a constructor ie __init__ method"
   ]
  },
  {
   "cell_type": "code",
   "execution_count": 28,
   "metadata": {},
   "outputs": [],
   "source": [
    "class Employee:\n",
    "    #creating the constructor\n",
    "    def __init__(self,name,age,salary,gender):\n",
    "        self.name= name\n",
    "        self.age=age\n",
    "        self.salary= salary\n",
    "        self.gender = gender\n",
    "    def emp_details(self):\n",
    "        print(\"Name of the employee is \",self.name)\n",
    "        print(\"Age of the employee is \",self.age)\n",
    "        print(\"Salary of the employee is \",self.salary)\n",
    "        print(\"Gender of the employee is \",self.gender)"
   ]
  },
  {
   "cell_type": "code",
   "execution_count": 29,
   "metadata": {},
   "outputs": [
    {
     "name": "stdout",
     "output_type": "stream",
     "text": [
      "Name of the employee is  Aditya\n",
      "Age of the employee is  21\n",
      "Salary of the employee is  100000\n",
      "Gender of the employee is  Male\n",
      "\n",
      "Name of the employee is  Akash\n",
      "Age of the employee is  20\n",
      "Salary of the employee is  80000\n",
      "Gender of the employee is  Male\n"
     ]
    }
   ],
   "source": [
    "e1=Employee(\"Aditya\",21,100000,\"Male\")\n",
    "e2=Employee(\"Akash\",20,80000,\"Male\")\n",
    "\n",
    "e1.emp_details()\n",
    "print()\n",
    "e2.emp_details()"
   ]
  },
  {
   "attachments": {},
   "cell_type": "markdown",
   "metadata": {},
   "source": [
    "Classmethod V/s Staticmethod\n",
    "\n",
    "Class methods are the methods of the class that are bound to the class rather than the object or any particular instance of the class.\n",
    "Classmethods are determined by the @classmethod annotation on top of the method definition. Just like how other normal methods in a class takes __self__ parameter in the function, it takes __cls__ parameter.\n",
    "\n",
    "Static methods are methods that belong to the class, but they don't have access to the class or instance attributes. Static methods are methods that belong to the class, but they don't have access to the class or instance attributes. They don't take any special parameter in the function definition like __self__ or __cls__. They can be called from both the class or the instance of the class. But the most notable advantage like in java also it doesn't require a instance of the class to be created to call the methods."
   ]
  },
  {
   "cell_type": "code",
   "execution_count": 42,
   "metadata": {},
   "outputs": [
    {
     "name": "stdout",
     "output_type": "stream",
     "text": [
      "21\n",
      "27\n",
      "True\n"
     ]
    }
   ],
   "source": [
    "# Python program to demonstrate\n",
    "# use of class method and static method.\n",
    "from datetime import date\n",
    "\n",
    "\n",
    "class Person:\n",
    "\tdef __init__(self, name, age):\n",
    "\t\tself.name = name\n",
    "\t\tself.age = age\n",
    "\n",
    "\t# a class method to create a Person object by birth year.\n",
    "\t@classmethod\n",
    "\tdef fromBirthYear(cls, name, year):\n",
    "\t\treturn cls(name, date.today().year - year)\n",
    "\n",
    "\t# a static method to check if a Person is adult or not.\n",
    "\t@staticmethod\n",
    "\tdef isAdult(age):\n",
    "\t\treturn age > 18\n",
    "\n",
    "\n",
    "person1 = Person('mayank', 21)\n",
    "person2 = Person.fromBirthYear('mayank', 1996)\n",
    "\n",
    "print(person1.age)\n",
    "print(person2.age)\n",
    "\n",
    "# print the result\n",
    "print(Person.isAdult(22))"
   ]
  },
  {
   "cell_type": "code",
   "execution_count": 31,
   "metadata": {},
   "outputs": [
    {
     "name": "stdout",
     "output_type": "stream",
     "text": [
      "Aditya Akash\n",
      "21 20\n"
     ]
    }
   ],
   "source": [
    "print(e1.name,e2.name)\n",
    "print(e1.age,e2.age)"
   ]
  },
  {
   "attachments": {},
   "cell_type": "markdown",
   "metadata": {},
   "source": [
    "Implementing the concepts of inheritance"
   ]
  },
  {
   "cell_type": "code",
   "execution_count": 37,
   "metadata": {},
   "outputs": [],
   "source": [
    "#creating the parent/base/super class that is to be inherited\n",
    "class Vehicle:\n",
    "    #constructor\n",
    "    def __init__(self,mileage,cost):\n",
    "        self.mileage= mileage\n",
    "        self.cost = cost\n",
    "    def vehicle_details(self):\n",
    "        print(\"You are inside a vehicle\")\n",
    "        print(\"Mileage of this vehicle is \",self.mileage,\"kmpl\")\n",
    "        print(\"Cost of this vehicle is Rs. \",self.cost)"
   ]
  },
  {
   "cell_type": "code",
   "execution_count": 38,
   "metadata": {},
   "outputs": [
    {
     "name": "stdout",
     "output_type": "stream",
     "text": [
      "You are inside a vehicle\n",
      "Mileage of this vehicle is  35 kmpl\n",
      "Cost of this vehicle is Rs.  100000\n"
     ]
    }
   ],
   "source": [
    "v1 = Vehicle(35,100000)\n",
    "v1.vehicle_details()"
   ]
  },
  {
   "cell_type": "code",
   "execution_count": 39,
   "metadata": {},
   "outputs": [
    {
     "name": "stdout",
     "output_type": "stream",
     "text": [
      "You are inside a vehicle\n",
      "Mileage of this vehicle is  80 kmpl\n",
      "Cost of this vehicle is Rs.  1000000\n",
      "\n",
      "You are inside a car\n"
     ]
    }
   ],
   "source": [
    "#creating a child/sub class that will inherit the baseclass\n",
    "class Car(Vehicle): #the syntax is to pass the baseclass into the childclass as a class argument\n",
    "    def show_car(self): #adding an extra method which is exclusive this class only and not in the baseclass\n",
    "        print(\"You are inside a car\")\n",
    "\n",
    "c1=Car(80,1000000)\n",
    "c1.vehicle_details()\n",
    "print()\n",
    "c1.show_car()"
   ]
  },
  {
   "cell_type": "code",
   "execution_count": 40,
   "metadata": {},
   "outputs": [
    {
     "name": "stdout",
     "output_type": "stream",
     "text": [
      "You are inside a car\n",
      "Mileage of this vehicle is  70 kmpl\n",
      "Cost of this vehicle is Rs.  800000\n",
      "\n",
      "You are inside a car\n"
     ]
    }
   ],
   "source": [
    "#redefining any particular method from the baseclass in the child class is called method/function overriding#creating a child/sub class that will inherit the baseclass\n",
    "class Car(Vehicle): #the syntax is to pass the baseclass into the childclass as a class argument\n",
    "    def show_car(self): #adding an extra method which is exclusive this class only and not in the baseclass\n",
    "        print(\"You are inside a car\")\n",
    "    #overriding the vehicle_details method\n",
    "    def vehicle_details(self):\n",
    "        print(\"You are inside a car\")\n",
    "        print(\"Mileage of this vehicle is \",self.mileage,\"kmpl\")\n",
    "        print(\"Cost of this vehicle is Rs. \",self.cost)\n",
    "\n",
    "c2=Car(70,800000)\n",
    "c2.vehicle_details()\n",
    "print()\n",
    "c2.show_car()"
   ]
  },
  {
   "attachments": {},
   "cell_type": "markdown",
   "metadata": {},
   "source": [
    "Overriding the constructor(init method) in the base class"
   ]
  },
  {
   "cell_type": "code",
   "execution_count": 41,
   "metadata": {},
   "outputs": [
    {
     "name": "stdout",
     "output_type": "stream",
     "text": [
      "You are inside a car\n",
      "Mileage of this vehicle is  70 kmpl\n",
      "Cost of this vehicle is Rs.  800000\n",
      "No. tyres of this vehicle is Rs.  4\n",
      "Power of this vehicle is Rs.  300 hp\n",
      "\n",
      "You are inside a car\n",
      "\n",
      "4 300\n"
     ]
    }
   ],
   "source": [
    "class Car(Vehicle): #the syntax is to pass the baseclass into the childclass as a class argument\n",
    "    def __init__(self,mileage,cost,tyres,hp):\n",
    "        super().__init__(mileage,cost)   #invoking the super/parent class constructor using the super() method\n",
    "        self.tyres= tyres\n",
    "        self.hp = hp\n",
    "    def show_car(self): \n",
    "        print(\"You are inside a car\")\n",
    "    #overriding the vehicle_details method\n",
    "    def vehicle_details(self):\n",
    "        print(\"You are inside a car\")\n",
    "        print(\"Mileage of this vehicle is \",self.mileage,\"kmpl\")\n",
    "        print(\"Cost of this vehicle is Rs. \",self.cost)\n",
    "        print(\"No. tyres of this vehicle is Rs. \",self.tyres)\n",
    "        print(\"Power of this vehicle is Rs. \",self.hp,\"hp\")\n",
    "\n",
    "c3=Car(70,800000,4,300)\n",
    "c3.vehicle_details()\n",
    "print()\n",
    "c3.show_car()\n",
    "print()\n",
    "print(c3.tyres, c3.hp)"
   ]
  },
  {
   "attachments": {},
   "cell_type": "markdown",
   "metadata": {},
   "source": [
    "There are different types of inheritance in programming and one of them is multiple inheritance. In multiple inheritance the child class inherits from more than one class."
   ]
  },
  {
   "cell_type": "code",
   "execution_count": 43,
   "metadata": {},
   "outputs": [
    {
     "name": "stdout",
     "output_type": "stream",
     "text": [
      "Mammals can give direct birth.\n",
      "Winged animals can flap.\n"
     ]
    }
   ],
   "source": [
    "class Mammal: #Baseclass1\n",
    "    def mammal_info(self):\n",
    "        print(\"Mammals can give direct birth.\")\n",
    "\n",
    "class WingedAnimal: #Baseclass2\n",
    "    def winged_animal_info(self):\n",
    "        print(\"Winged animals can flap.\")\n",
    "\n",
    "class Bat(Mammal, WingedAnimal):\n",
    "    pass    #pass keyword is used to create an empty method or class\n",
    "\n",
    "# create an object of Bat class\n",
    "b1 = Bat()\n",
    "\n",
    "b1.mammal_info()\n",
    "b1.winged_animal_info()"
   ]
  },
  {
   "cell_type": "code",
   "execution_count": 47,
   "metadata": {},
   "outputs": [
    {
     "name": "stdout",
     "output_type": "stream",
     "text": [
      "Bats are mammals and winged animal at the same time\n",
      "Mammals can give direct birth.\n",
      "Winged animals can flap.\n"
     ]
    }
   ],
   "source": [
    "class Mammal: #Baseclass1\n",
    "    def mammal_info(self):\n",
    "        print(\"Mammals can give direct birth.\")\n",
    "\n",
    "class WingedAnimal: #Baseclass2\n",
    "    def winged_animal_info(self):\n",
    "        print(\"Winged animals can flap.\")\n",
    "\n",
    "class Bat(Mammal, WingedAnimal):\n",
    "    @staticmethod\n",
    "    def info():\n",
    "        print(\"Bats are mammals and winged animal at the same time\")\n",
    "\n",
    "# create an object of Bat class\n",
    "b2 = Bat()\n",
    "Bat.info()\n",
    "b2.mammal_info()\n",
    "b2.winged_animal_info()"
   ]
  },
  {
   "attachments": {},
   "cell_type": "markdown",
   "metadata": {},
   "source": [
    "Multilevel Inheritance\n",
    "\n",
    "n Python, not only can we derive a class from the superclass but you can also derive a class from the derived class. This form of inheritance is known as multilevel inheritance."
   ]
  },
  {
   "cell_type": "code",
   "execution_count": 48,
   "metadata": {},
   "outputs": [
    {
     "name": "stdout",
     "output_type": "stream",
     "text": [
      "Super Class method called\n",
      "Derived class 1 method called\n",
      "Derived class 2 method called\n"
     ]
    }
   ],
   "source": [
    "class SuperClass:\n",
    "\n",
    "    def super_method(self):\n",
    "        print(\"Super Class method called\")\n",
    "\n",
    "# define class that derive from SuperClass\n",
    "class DerivedClass1(SuperClass):\n",
    "    def derived1_method(self):\n",
    "        print(\"Derived class 1 method called\")\n",
    "\n",
    "# define class that derive from DerivedClass1\n",
    "class DerivedClass2(DerivedClass1):\n",
    "\n",
    "    def derived2_method(self):\n",
    "        print(\"Derived class 2 method called\")\n",
    "\n",
    "# create an object of DerivedClass2\n",
    "d2 = DerivedClass2()\n",
    "\n",
    "d2.super_method()  # Output: \"Super Class method called\"\n",
    "\n",
    "d2.derived1_method()  # Output: \"Derived class 1 method called\"\n",
    "\n",
    "d2.derived2_method()  # Output: \"Derived class 2 method called\""
   ]
  },
  {
   "attachments": {},
   "cell_type": "markdown",
   "metadata": {},
   "source": [
    "Method Resolution Order (MRO) in Python\n",
    "\n",
    "If two superclasses have the same method name and the derived class calls that method, Python uses the MRO to search for the right method to call."
   ]
  },
  {
   "cell_type": "code",
   "execution_count": 49,
   "metadata": {},
   "outputs": [
    {
     "name": "stdout",
     "output_type": "stream",
     "text": [
      "Super Class 1 method called\n"
     ]
    }
   ],
   "source": [
    "class SuperClass1:\n",
    "    def info(self):\n",
    "        print(\"Super Class 1 method called\")\n",
    "\n",
    "class SuperClass2:\n",
    "    def info(self):\n",
    "        print(\"Super Class 2 method called\")\n",
    "\n",
    "class Derived(SuperClass1, SuperClass2):\n",
    "    pass\n",
    "\n",
    "d1 = Derived()\n",
    "d1.info()  "
   ]
  },
  {
   "attachments": {},
   "cell_type": "markdown",
   "metadata": {},
   "source": [
    "Here, SuperClass1 and SuperClass2 both of these classes define a method info().\n",
    "\n",
    "So when info() is called using the d1 object of the Derived class, Python uses the MRO to determine which method to call.\n",
    "\n",
    "In this case, the MRO specifies that methods should be inherited from the leftmost superclass first, so info() of SuperClass1 is called rather than that of SuperClass2"
   ]
  },
  {
   "attachments": {},
   "cell_type": "markdown",
   "metadata": {},
   "source": [
    "Getter and Setters using the @property decorator to access the private class attributes and methods."
   ]
  },
  {
   "cell_type": "code",
   "execution_count": 50,
   "metadata": {},
   "outputs": [
    {
     "name": "stdout",
     "output_type": "stream",
     "text": [
      "Setting value...\n",
      "Getting value...\n",
      "37\n",
      "Getting value...\n",
      "98.60000000000001\n",
      "Setting value...\n"
     ]
    },
    {
     "ename": "ValueError",
     "evalue": "Temperature below -273 is not possible",
     "output_type": "error",
     "traceback": [
      "\u001b[1;31m---------------------------------------------------------------------------\u001b[0m",
      "\u001b[1;31mValueError\u001b[0m                                Traceback (most recent call last)",
      "Cell \u001b[1;32mIn[50], line 29\u001b[0m\n\u001b[0;32m     25\u001b[0m \u001b[39mprint\u001b[39m(human\u001b[39m.\u001b[39mtemperature)\n\u001b[0;32m     27\u001b[0m \u001b[39mprint\u001b[39m(human\u001b[39m.\u001b[39mto_fahrenheit())\n\u001b[1;32m---> 29\u001b[0m coldest_thing \u001b[39m=\u001b[39m Celsius(\u001b[39m-\u001b[39;49m\u001b[39m300\u001b[39;49m)\n",
      "Cell \u001b[1;32mIn[50], line 4\u001b[0m, in \u001b[0;36mCelsius.__init__\u001b[1;34m(self, temperature)\u001b[0m\n\u001b[0;32m      3\u001b[0m \u001b[39mdef\u001b[39;00m \u001b[39m__init__\u001b[39m(\u001b[39mself\u001b[39m, temperature\u001b[39m=\u001b[39m\u001b[39m0\u001b[39m):\n\u001b[1;32m----> 4\u001b[0m     \u001b[39mself\u001b[39;49m\u001b[39m.\u001b[39;49mtemperature \u001b[39m=\u001b[39m temperature\n",
      "Cell \u001b[1;32mIn[50], line 18\u001b[0m, in \u001b[0;36mCelsius.temperature\u001b[1;34m(self, value)\u001b[0m\n\u001b[0;32m     16\u001b[0m \u001b[39mprint\u001b[39m(\u001b[39m\"\u001b[39m\u001b[39mSetting value...\u001b[39m\u001b[39m\"\u001b[39m)\n\u001b[0;32m     17\u001b[0m \u001b[39mif\u001b[39;00m value \u001b[39m<\u001b[39m \u001b[39m-\u001b[39m\u001b[39m273.15\u001b[39m:\n\u001b[1;32m---> 18\u001b[0m     \u001b[39mraise\u001b[39;00m \u001b[39mValueError\u001b[39;00m(\u001b[39m\"\u001b[39m\u001b[39mTemperature below -273 is not possible\u001b[39m\u001b[39m\"\u001b[39m)\n\u001b[0;32m     19\u001b[0m \u001b[39mself\u001b[39m\u001b[39m.\u001b[39m_temperature \u001b[39m=\u001b[39m value\n",
      "\u001b[1;31mValueError\u001b[0m: Temperature below -273 is not possible"
     ]
    }
   ],
   "source": [
    "# Using @property decorator\n",
    "class Celsius:\n",
    "    def __init__(self, temperature=0):\n",
    "        self.temperature = temperature\n",
    "\n",
    "    def to_fahrenheit(self):\n",
    "        return (self.temperature * 1.8) + 32\n",
    "\n",
    "    @property\n",
    "    def temperature(self):\n",
    "        print(\"Getting value...\")\n",
    "        return self._temperature\n",
    "\n",
    "    @temperature.setter\n",
    "    def temperature(self, value):\n",
    "        print(\"Setting value...\")\n",
    "        if value < -273.15:\n",
    "            raise ValueError(\"Temperature below -273 is not possible\")\n",
    "        self._temperature = value\n",
    "\n",
    "\n",
    "# create an object\n",
    "human = Celsius(37)\n",
    "\n",
    "print(human.temperature)\n",
    "\n",
    "print(human.to_fahrenheit())\n",
    "\n",
    "coldest_thing = Celsius(-300)"
   ]
  }
 ],
 "metadata": {
  "kernelspec": {
   "display_name": "Python 3",
   "language": "python",
   "name": "python3"
  },
  "language_info": {
   "codemirror_mode": {
    "name": "ipython",
    "version": 3
   },
   "file_extension": ".py",
   "mimetype": "text/x-python",
   "name": "python",
   "nbconvert_exporter": "python",
   "pygments_lexer": "ipython3",
   "version": "3.11.1"
  },
  "orig_nbformat": 4
 },
 "nbformat": 4,
 "nbformat_minor": 2
}
